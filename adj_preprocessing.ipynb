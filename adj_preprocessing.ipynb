{
 "cells": [
  {
   "cell_type": "code",
   "execution_count": 120,
   "metadata": {},
   "outputs": [],
   "source": [
    "# pandas 불러오기\n",
    "import pandas as pd\n",
    "# noun_dict.csv 파일 불러오기\n",
    "# adj_dict = pd.read_csv('/final/final_sh/adj_list_5.csv', encoding='utf-8')\n",
    "\n",
    "# df_mecab_noun.csv 불러오기\n",
    "adj_total = pd.read_csv('adj_total.csv', encoding='utf-8', index_col=0)"
   ]
  },
  {
   "cell_type": "code",
   "execution_count": 123,
   "metadata": {},
   "outputs": [
    {
     "data": {
      "text/html": [
       "<div>\n",
       "<style scoped>\n",
       "    .dataframe tbody tr th:only-of-type {\n",
       "        vertical-align: middle;\n",
       "    }\n",
       "\n",
       "    .dataframe tbody tr th {\n",
       "        vertical-align: top;\n",
       "    }\n",
       "\n",
       "    .dataframe thead th {\n",
       "        text-align: right;\n",
       "    }\n",
       "</style>\n",
       "<table border=\"1\" class=\"dataframe\">\n",
       "  <thead>\n",
       "    <tr style=\"text-align: right;\">\n",
       "      <th></th>\n",
       "      <th>keyword</th>\n",
       "      <th>mecab_adj2</th>\n",
       "    </tr>\n",
       "  </thead>\n",
       "  <tbody>\n",
       "    <tr>\n",
       "      <th>0</th>\n",
       "      <td>168계단</td>\n",
       "      <td>있다 없다 있다 없다 비싸다 멀다 있다 많다 있다 있다 있다 있다 많다 많다 무섭...</td>\n",
       "    </tr>\n",
       "    <tr>\n",
       "      <th>1</th>\n",
       "      <td>25의용단</td>\n",
       "      <td>좋다 없다 없다 없다 없다 같다 있다 있다 어렵다 있다 좋다 같다 있다 좋다 크다...</td>\n",
       "    </tr>\n",
       "    <tr>\n",
       "      <th>2</th>\n",
       "      <td>40계단 문화관</td>\n",
       "      <td>늦다 좋다 좋다 없다 같다 비싸다 좋다 크다 크다 있다 없다 없다 있다 이쁘다 좋...</td>\n",
       "    </tr>\n",
       "    <tr>\n",
       "      <th>3</th>\n",
       "      <td>40계단 문화관광테마거리</td>\n",
       "      <td>수많다 있다 없다 없다 없다 있다 깊다 있다 있다 좋다 멋지다 있다 없다 있다 있...</td>\n",
       "    </tr>\n",
       "    <tr>\n",
       "      <th>4</th>\n",
       "      <td>60년전통 할매국밥</td>\n",
       "      <td>맛있다 없다 싫다 없다 맛있다 좋다 맛있다 아쉬우다 무겁다 없다 맛있다 재밌다 맛...</td>\n",
       "    </tr>\n",
       "    <tr>\n",
       "      <th>...</th>\n",
       "      <td>...</td>\n",
       "      <td>...</td>\n",
       "    </tr>\n",
       "    <tr>\n",
       "      <th>561</th>\n",
       "      <td>오륙도</td>\n",
       "      <td>괜찮다 춥다 빠르다 좋다 있다 넓디넓다 있다 없다 무섭다 없다 밝다 춥다 빠르다 ...</td>\n",
       "    </tr>\n",
       "    <tr>\n",
       "      <th>562</th>\n",
       "      <td>이기대</td>\n",
       "      <td>넓다 같다 있다 좋다 작다 같다 좋다 좋다 좋다 예쁘다 맛있다 좋다 춥다 덥다 멋...</td>\n",
       "    </tr>\n",
       "    <tr>\n",
       "      <th>563</th>\n",
       "      <td>장산</td>\n",
       "      <td>같다 편하다 있다 같다 있다 있다 그렇다 작다 있다 같다 있다 있다 좋다 같다 있...</td>\n",
       "    </tr>\n",
       "    <tr>\n",
       "      <th>564</th>\n",
       "      <td>태종대</td>\n",
       "      <td>없다 같다 좋다 같다 길다 있다 같다 좋다 빠르다 있다 있다 좋다 좋다 작다 많다...</td>\n",
       "    </tr>\n",
       "    <tr>\n",
       "      <th>565</th>\n",
       "      <td>학리방파제</td>\n",
       "      <td>없다 있다 많다 좋다 힘들다 같다 있다 있다 좋다 있다 같다 잽싸다 똑같다 맛있다...</td>\n",
       "    </tr>\n",
       "  </tbody>\n",
       "</table>\n",
       "<p>566 rows × 2 columns</p>\n",
       "</div>"
      ],
      "text/plain": [
       "           keyword                                         mecab_adj2\n",
       "0            168계단   있다 없다 있다 없다 비싸다 멀다 있다 많다 있다 있다 있다 있다 많다 많다 무섭...\n",
       "1            25의용단   좋다 없다 없다 없다 없다 같다 있다 있다 어렵다 있다 좋다 같다 있다 좋다 크다...\n",
       "2         40계단 문화관   늦다 좋다 좋다 없다 같다 비싸다 좋다 크다 크다 있다 없다 없다 있다 이쁘다 좋...\n",
       "3    40계단 문화관광테마거리   수많다 있다 없다 없다 없다 있다 깊다 있다 있다 좋다 멋지다 있다 없다 있다 있...\n",
       "4       60년전통 할매국밥   맛있다 없다 싫다 없다 맛있다 좋다 맛있다 아쉬우다 무겁다 없다 맛있다 재밌다 맛...\n",
       "..             ...                                                ...\n",
       "561            오륙도   괜찮다 춥다 빠르다 좋다 있다 넓디넓다 있다 없다 무섭다 없다 밝다 춥다 빠르다 ...\n",
       "562            이기대   넓다 같다 있다 좋다 작다 같다 좋다 좋다 좋다 예쁘다 맛있다 좋다 춥다 덥다 멋...\n",
       "563             장산   같다 편하다 있다 같다 있다 있다 그렇다 작다 있다 같다 있다 있다 좋다 같다 있...\n",
       "564            태종대   없다 같다 좋다 같다 길다 있다 같다 좋다 빠르다 있다 있다 좋다 좋다 작다 많다...\n",
       "565          학리방파제   없다 있다 많다 좋다 힘들다 같다 있다 있다 좋다 있다 같다 잽싸다 똑같다 맛있다...\n",
       "\n",
       "[566 rows x 2 columns]"
      ]
     },
     "execution_count": 123,
     "metadata": {},
     "output_type": "execute_result"
    }
   ],
   "source": [
    "adj_total"
   ]
  },
  {
   "cell_type": "code",
   "execution_count": 121,
   "metadata": {},
   "outputs": [],
   "source": [
    "not_adj=['있다','좋다','같다','없다','많다','작다','크다','맛있다','넓다','높다','괜찮다','길다','힘들다','아쉽다','예쁘다','편하다','다','르다','늦다','그렇다','쉽다','재밌다', '짧다']"
   ]
  },
  {
   "cell_type": "code",
   "execution_count": 97,
   "metadata": {},
   "outputs": [],
   "source": [
    "adj_list = adj_dict['adj_list'].tolist()"
   ]
  },
  {
   "cell_type": "code",
   "execution_count": null,
   "metadata": {},
   "outputs": [],
   "source": [
    "not_adj"
   ]
  },
  {
   "cell_type": "code",
   "execution_count": 126,
   "metadata": {},
   "outputs": [],
   "source": [
    "adj_total['pre']= adj_total['mecab_adj2'].apply(lambda x: x.split(' '))\n",
    "adj_total['isinTrue'] = ''\n",
    "# adj_total['intersection'] = adj_total['pre'].apply(lambda x: list(set(x) & set(not_adj))) 중복인 행 담기 위해 "
   ]
  },
  {
   "cell_type": "code",
   "execution_count": 127,
   "metadata": {},
   "outputs": [],
   "source": [
    "for i, x in enumerate(adj_total['pre']):\n",
    "    basket = []\n",
    "    for y in x :\n",
    "        if y not in not_adj:\n",
    "            basket.append(y)\n",
    "    adj_total['isinTrue'][i] = basket\n",
    "           "
   ]
  },
  {
   "cell_type": "code",
   "execution_count": 129,
   "metadata": {},
   "outputs": [
    {
     "data": {
      "text/plain": [
       "23"
      ]
     },
     "execution_count": 129,
     "metadata": {},
     "output_type": "execute_result"
    }
   ],
   "source": [
    "len(not_adj)"
   ]
  },
  {
   "cell_type": "code",
   "execution_count": 137,
   "metadata": {},
   "outputs": [
    {
     "data": {
      "text/plain": [
       "12783.719081272086"
      ]
     },
     "execution_count": 137,
     "metadata": {},
     "output_type": "execute_result"
    }
   ],
   "source": [
    "adj_total['mecab_adj2'].apply(lambda x: len(x)).mean() # 총 단어 갯수의 평균"
   ]
  },
  {
   "cell_type": "code",
   "execution_count": 140,
   "metadata": {},
   "outputs": [
    {
     "data": {
      "text/plain": [
       "174.0"
      ]
     },
     "execution_count": 140,
     "metadata": {},
     "output_type": "execute_result"
    }
   ],
   "source": [
    "adj_total['isinTrue'].apply(lambda x: len(x)).median() "
   ]
  },
  {
   "cell_type": "code",
   "execution_count": 145,
   "metadata": {},
   "outputs": [],
   "source": [
    "adj_total['isinTrue'].str.len()"
   ]
  },
  {
   "cell_type": "code",
   "execution_count": 153,
   "metadata": {},
   "outputs": [],
   "source": [
    "adj_total=adj_total.drop(columns=['pre','mecab_adj2'])"
   ]
  },
  {
   "cell_type": "code",
   "execution_count": 157,
   "metadata": {},
   "outputs": [],
   "source": [
    "adj_total=adj_total.drop(['부산키자니아','톤쇼우 광안점','공극샌드커피','부산 트릭아이뮤지엄','국립부산과학관','부산세관박물관','부산원도심골목길축제','조선통신사역사관','부산어촌민속관'], axis=0)"
   ]
  },
  {
   "cell_type": "code",
   "execution_count": 165,
   "metadata": {},
   "outputs": [],
   "source": [
    "adj_total=adj_total.drop(['대항선착장','대항전망대','관수옥과 초량왜관 터','해운대일대(낚시터)','화전공원','사상근린공원'],axis=0)"
   ]
  },
  {
   "cell_type": "code",
   "execution_count": 162,
   "metadata": {},
   "outputs": [],
   "source": [
    "adj_total[adj_total['isinTrue'].map(len) >=100].to_clipboard() # 단어수가 100개 이상인것만 "
   ]
  },
  {
   "cell_type": "code",
   "execution_count": 164,
   "metadata": {},
   "outputs": [],
   "source": [
    "adj_total['isinTrue'].str.len() # 단어 수 확인"
   ]
  },
  {
   "cell_type": "code",
   "execution_count": 166,
   "metadata": {},
   "outputs": [],
   "source": [
    "adj_total[adj_total['isinTrue'].map(len) >=100].to_csv('./adj_total_100_2.csv',encoding='utf-8')"
   ]
  },
  {
   "cell_type": "code",
   "execution_count": 108,
   "metadata": {},
   "outputs": [
    {
     "data": {
      "text/plain": [
       "keyword\n",
       "168계단            [맑다, 멋지다, 고맙다, 맛나다, 아름답다, 손쉽다, 멋있다, 새롭다, 무덥다, ...\n",
       "25의용단            [곱다, 알차다, 이쁘다, 편하다, 예쁘다, 귀하다, 부끄럽다, 어둡다, 엄청나다,...\n",
       "40계단 문화관         [정신없다, 낯설다, 슬프다, 맑다, 정겹다, 시끄럽다, 심심찮다, 드넓다, 부드럽...\n",
       "40계단 문화관광테마거리    [슬프다, 반갑다, 맑다, 심심찮다, 멋지다, 어둡다, 뜻깊다, 진하다, 매끄럽다,...\n",
       "60년전통 할매국밥       [드물다, 맑다, 정겹다, 부드럽다, 드넓다, 진하다, 맛나다, 아름답다, 멋있다,...\n",
       "                                       ...                        \n",
       "오륙도              [정신없다, 낯설다, 무서우다, 맑다, 드넓다, 부드럽다, 멋지다, 힘겹다, 험하다...\n",
       "이기대              [드물다, 정신없다, 낯설다, 뛰어나다, 얼큰하다, 맑다, 정겹다, 드넓다, 부드럽...\n",
       "장산               [슬프다, 맑다, 부드럽다, 멋지다, 진하다, 순하다, 맛나다, 아름답다, 멋있다,...\n",
       "태종대              [쨍하다, 반갑다, 맑다, 드넓다, 멋지다, 맛나다, 푸르다, 아름답다, 손쉽다, ...\n",
       "학리방파제            [따숩다, 얼큰하다, 맑다, 정겹다, 시끄럽다, 부드럽다, 멋지다, 어둡다, 맛나다...\n",
       "Name: intersection, Length: 566, dtype: object"
      ]
     },
     "execution_count": 108,
     "metadata": {},
     "output_type": "execute_result"
    }
   ],
   "source": [
    "adj_split['intersection']"
   ]
  },
  {
   "cell_type": "code",
   "execution_count": 105,
   "metadata": {},
   "outputs": [],
   "source": [
    "adj_split['intersection'].to_csv('./adj_count_list_5.csv',encoding='utf-8')"
   ]
  }
 ],
 "metadata": {
  "kernelspec": {
   "display_name": "Python 3.9.13 ('base')",
   "language": "python",
   "name": "python3"
  },
  "language_info": {
   "codemirror_mode": {
    "name": "ipython",
    "version": 3
   },
   "file_extension": ".py",
   "mimetype": "text/x-python",
   "name": "python",
   "nbconvert_exporter": "python",
   "pygments_lexer": "ipython3",
   "version": "3.9.13"
  },
  "orig_nbformat": 4,
  "vscode": {
   "interpreter": {
    "hash": "610a6f344c2137faf927ea819c63f6cee33a2c04455044b28099f39fe9722347"
   }
  }
 },
 "nbformat": 4,
 "nbformat_minor": 2
}
